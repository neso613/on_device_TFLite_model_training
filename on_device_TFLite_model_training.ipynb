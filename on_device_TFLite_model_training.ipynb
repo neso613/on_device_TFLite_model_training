{
 "cells": [
  {
   "cell_type": "markdown",
   "metadata": {
    "id": "UaWdLA3fQDK2"
   },
   "source": [
    "## Setup\n"
   ]
  },
  {
   "cell_type": "code",
   "execution_count": 2,
   "metadata": {
    "colab": {
     "base_uri": "https://localhost:8080/"
    },
    "id": "9j4MGqyKQEo4",
    "outputId": "a06d2a83-d815-4d75-8c59-4d5e448d558c"
   },
   "outputs": [
    {
     "name": "stdout",
     "output_type": "stream",
     "text": [
      "TensorFlow version: 2.7.0\n"
     ]
    }
   ],
   "source": [
    "import matplotlib.pyplot as plt\n",
    "import numpy as np\n",
    "import tensorflow as tf\n",
    "\n",
    "print(\"TensorFlow version:\", tf.__version__)"
   ]
  },
  {
   "cell_type": "markdown",
   "metadata": {
    "id": "_omifE5JKpt4"
   },
   "source": [
    "## Classify images of clothing\n",
    "\n",
    "This example code uses the [Fashion MNIST dataset](https://keras.io/api/datasets/fashion_mnist/) to train a neural network model for classifying images of clothing. This dataset contains 60,000 small (28 x 28 pixel) grayscale images containing 10 different categories of fashion accessories, including dresses, shirts, and sandals.\n"
   ]
  },
  {
   "cell_type": "markdown",
   "metadata": {
    "id": "FN2N6hPEP-Ay"
   },
   "source": [
    "## Build a model for on-device training\n",
    "\n",
    "TensorFlow Lite models typically have only a single exposed function method (or [signature](https://www.tensorflow.org/lite/guide/signatures)) that allows you to call the model to run an inference. For a model to be trained and used on a device, you must be able to perform several separate operations, including train, infer, save, and restore functions for the model. You can enable this functionality by first extending your TensorFlow model to have multiple functions, and then exposing those functions as signatures when you convert your model to the TensorFlow Lite model format.\n",
    "\n",
    "The code example below shows you how to add the following functions to a TensorFlow model:\n",
    "\n",
    "*   `train` function trains the model with training data.\n",
    "*   `infer` function invokes the inference.\n",
    "*   `save` function saves the trainable weights into the file system.\n",
    "*   `restore` function loads the trainable weights from the file system."
   ]
  },
  {
   "cell_type": "code",
   "execution_count": 3,
   "metadata": {
    "id": "d8577c80"
   },
   "outputs": [],
   "source": [
    "IMG_SIZE = 28\n",
    "\n",
    "class Model(tf.Module):\n",
    "\n",
    "  def __init__(self):\n",
    "    self.model = tf.keras.Sequential([\n",
    "        tf.keras.layers.Flatten(input_shape=(IMG_SIZE, IMG_SIZE), name='flatten'),\n",
    "        tf.keras.layers.Dense(128, activation='relu', name='dense_1'),\n",
    "        tf.keras.layers.Dense(10, activation='softmax', name='dense_2')\n",
    "    ])\n",
    "\n",
    "    self.model.compile(\n",
    "        optimizer='sgd',\n",
    "        loss=tf.keras.losses.CategoricalCrossentropy(from_logits=True),\n",
    "        metrics=['accuracy'])\n",
    "    self._LOSS_FN = tf.keras.losses.CategoricalCrossentropy()\n",
    "    self._OPTIM = tf.optimizers.SGD()\n",
    "\n",
    "  # The `train` function takes a batch of input images and labels.\n",
    "  @tf.function(input_signature=[\n",
    "      tf.TensorSpec([None, IMG_SIZE, IMG_SIZE], tf.float32),\n",
    "      tf.TensorSpec([None, 10], tf.float32),\n",
    "  ])\n",
    "  def train(self, x, y):\n",
    "    with tf.GradientTape() as tape:\n",
    "      prediction = self.model(x)\n",
    "      loss = self._LOSS_FN(prediction, y)\n",
    "    gradients = tape.gradient(loss, self.model.trainable_variables)\n",
    "    self._OPTIM.apply_gradients(\n",
    "        zip(gradients, self.model.trainable_variables))\n",
    "    result = {\"loss\": loss}\n",
    "    for grad in gradients:\n",
    "      result[grad.name] = grad\n",
    "    return result\n",
    "\n",
    "  @tf.function(input_signature=[\n",
    "      tf.TensorSpec([None, IMG_SIZE, IMG_SIZE], tf.float32),\n",
    "  ])\n",
    "  def infer(self, x):\n",
    "    return {\n",
    "        \"output\": self.model(x)\n",
    "    }\n",
    "\n",
    "  @tf.function(input_signature=[tf.TensorSpec(shape=[], dtype=tf.string)])\n",
    "  def save(self, checkpoint_path):\n",
    "    tensor_names = [weight.name for weight in self.model.weights]\n",
    "    tensors_to_save = [weight.read_value() for weight in self.model.weights]\n",
    "    tf.raw_ops.Save(\n",
    "        filename=checkpoint_path, tensor_names=tensor_names,\n",
    "        data=tensors_to_save, name='save')\n",
    "    return {\n",
    "        \"checkpoint_path\": checkpoint_path\n",
    "    }\n",
    "\n",
    "  @tf.function(input_signature=[tf.TensorSpec(shape=[], dtype=tf.string)])\n",
    "  def restore(self, checkpoint_path):\n",
    "    restored_tensors = {}\n",
    "    for var in self.model.weights:\n",
    "      restored = tf.raw_ops.Restore(\n",
    "          file_pattern=checkpoint_path, tensor_name=var.name, dt=var.dtype,\n",
    "          name='restore')\n",
    "      var.assign(restored)\n",
    "      restored_tensors[var.name] = restored\n",
    "    return restored_tensors"
   ]
  },
  {
   "cell_type": "markdown",
   "metadata": {
    "id": "86tBMjoBnp6d"
   },
   "source": [
    "The `train` function in the code above uses the [GradientTape](https://www.tensorflow.org/api_docs/python/tf/GradientTape) class to record operations for automatic differentiation. For more information on how to use this class, see the [Introduction to gradients and automatic differentiation](https://www.tensorflow.org/guide/autodiff).\n",
    "\n",
    "Note: The weights generated by this model are serialized as a TensorFlow version one checkpoint file format."
   ]
  },
  {
   "cell_type": "code",
   "execution_count": 4,
   "metadata": {
    "colab": {
     "base_uri": "https://localhost:8080/"
    },
    "id": "315b8b4dfc16",
    "outputId": "6b262c35-834e-4f02-fbce-3d7473e659d0"
   },
   "outputs": [
    {
     "name": "stdout",
     "output_type": "stream",
     "text": [
      "Downloading data from https://storage.googleapis.com/tensorflow/tf-keras-datasets/train-labels-idx1-ubyte.gz\n",
      "32768/29515 [=================================] - 0s 0us/step\n",
      "40960/29515 [=========================================] - 0s 0us/step\n",
      "Downloading data from https://storage.googleapis.com/tensorflow/tf-keras-datasets/train-images-idx3-ubyte.gz\n",
      "26427392/26421880 [==============================] - 0s 0us/step\n",
      "26435584/26421880 [==============================] - 0s 0us/step\n",
      "Downloading data from https://storage.googleapis.com/tensorflow/tf-keras-datasets/t10k-labels-idx1-ubyte.gz\n",
      "16384/5148 [===============================================================================================] - 0s 0us/step\n",
      "Downloading data from https://storage.googleapis.com/tensorflow/tf-keras-datasets/t10k-images-idx3-ubyte.gz\n",
      "4423680/4422102 [==============================] - 0s 0us/step\n",
      "4431872/4422102 [==============================] - 0s 0us/step\n"
     ]
    }
   ],
   "source": [
    "fashion_mnist = tf.keras.datasets.fashion_mnist\n",
    "(train_images, train_labels), (test_images, test_labels) = fashion_mnist.load_data()"
   ]
  },
  {
   "cell_type": "markdown",
   "metadata": {
    "id": "2eDn-bRD30sw"
   },
   "source": [
    "### Preprocess the dataset\n",
    "\n",
    "Pixel values in this dataset are between 0 and 255, and must be normalized to a value between 0 and 1 for processing by the model. Divide the values by 255 to make this adjustment."
   ]
  },
  {
   "cell_type": "code",
   "execution_count": 5,
   "metadata": {
    "id": "g0FqHC0yCg6n"
   },
   "outputs": [],
   "source": [
    "train_images = train_images / 255.0\n",
    "test_images = test_images / 255.0"
   ]
  },
  {
   "cell_type": "markdown",
   "metadata": {
    "id": "1bbee849ab73"
   },
   "source": [
    "Convert the data labels to categorical values by performing one-hot encoding."
   ]
  },
  {
   "cell_type": "code",
   "execution_count": 6,
   "metadata": {
    "id": "Fmc7EgYO30sw"
   },
   "outputs": [],
   "source": [
    "train_labels = tf.keras.utils.to_categorical(train_labels)\n",
    "test_labels = tf.keras.utils.to_categorical(test_labels)"
   ]
  },
  {
   "cell_type": "markdown",
   "metadata": {
    "id": "xkuDUFNNyAVN"
   },
   "source": [
    "## Train the model\n",
    "\n"
   ]
  },
  {
   "cell_type": "code",
   "execution_count": 7,
   "metadata": {
    "colab": {
     "base_uri": "https://localhost:8080/",
     "height": 428
    },
    "id": "Diwn1MmkNVeX",
    "outputId": "b9a49c56-4519-4616-88bb-19b31e9fc01a"
   },
   "outputs": [
    {
     "name": "stdout",
     "output_type": "stream",
     "text": [
      "Finished 10 epochs, current loss: 5.566993236541748\n",
      "Finished 20 epochs, current loss: 5.505050182342529\n",
      "Finished 30 epochs, current loss: 5.4905104637146\n",
      "Finished 40 epochs, current loss: 5.409695625305176\n",
      "Finished 50 epochs, current loss: 5.381204605102539\n",
      "Finished 60 epochs, current loss: 5.360347270965576\n",
      "Finished 70 epochs, current loss: 5.345554351806641\n",
      "Finished 80 epochs, current loss: 5.325632095336914\n",
      "Finished 90 epochs, current loss: 5.257455825805664\n",
      "Finished 100 epochs, current loss: 5.126877307891846\n"
     ]
    },
    {
     "data": {
      "image/png": "[encoded data removed]",
      "text/plain": [
       "<Figure size 432x288 with 1 Axes>"
      ]
     },
     "metadata": {
      "needs_background": "light"
     },
     "output_type": "display_data"
    }
   ],
   "source": [
    "NUM_EPOCHS = 100\n",
    "BATCH_SIZE = 100\n",
    "epochs = np.arange(1, NUM_EPOCHS + 1, 1)\n",
    "losses = np.zeros([NUM_EPOCHS])\n",
    "m = Model()\n",
    "\n",
    "for i in range(NUM_EPOCHS):\n",
    "  for batch_idx in range(len(train_images) // BATCH_SIZE):\n",
    "    batched_images = train_images[BATCH_SIZE*(batch_idx) : BATCH_SIZE * (batch_idx + 1)]\n",
    "    batched_labels = train_labels[BATCH_SIZE*(batch_idx) : BATCH_SIZE * (batch_idx + 1)]\n",
    "    result = m.train(\n",
    "        x=tf.constant(batched_images, shape=(BATCH_SIZE, IMG_SIZE, IMG_SIZE),\n",
    "                      dtype=tf.float32),\n",
    "        y=tf.constant(batched_labels, shape=(BATCH_SIZE, 10), dtype=tf.float32))\n",
    "  losses[i] = result['loss']\n",
    "  if (i + 1) % 10 == 0:\n",
    "    print('Finished {0} epochs, current loss: {1}'.format(i + 1, losses[i]))\n",
    "\n",
    "# Save the trained weights to a checkpoint.\n",
    "m.save('/tmp/model.ckpt')\n",
    "\n",
    "plt.plot(epochs, losses)\n",
    "plt.show()"
   ]
  },
  {
   "cell_type": "markdown",
   "metadata": {
    "id": "LaMMDLLewAaX"
   },
   "source": [
    "Note: You should complete initial training of your model before converting it to TensorFlow Lite format, so that the model has an initial set of weights, and is able to perform reasonable inferences *before* you start collecting data and conducting training runs on the device."
   ]
  },
  {
   "cell_type": "markdown",
   "metadata": {
    "id": "A8YUTIvzMVw5"
   },
   "source": [
    "## Convert model to TensorFlow Lite format\n",
    "\n",
    "After you have extended your TensorFlow model to enable additional functions for on-device training and completed initial training of the model, you can convert it to TensorFlow Lite format. The following code converts and saves your model to that format, including the set of signatures that you use with the TensorFlow Lite model on a device: `train, infer, save, restore`."
   ]
  },
  {
   "cell_type": "code",
   "execution_count": 8,
   "metadata": {
    "colab": {
     "base_uri": "https://localhost:8080/"
    },
    "id": "WwsDUEKFMYtq",
    "outputId": "2041216d-bb90-429b-a0f9-b0e827c93969"
   },
   "outputs": [
    {
     "name": "stdout",
     "output_type": "stream",
     "text": [
      "INFO:tensorflow:Assets written to: saved_model/assets\n"
     ]
    },
    {
     "name": "stderr",
     "output_type": "stream",
     "text": [
      "WARNING:absl:Importing a function (__inference_internal_grad_fn_421422) with ops with unsaved custom gradients. Will likely fail if a gradient is requested.\n",
      "WARNING:absl:Importing a function (__inference_internal_grad_fn_421450) with ops with unsaved custom gradients. Will likely fail if a gradient is requested.\n",
      "WARNING:absl:Buffer deduplication procedure will be skipped when flatbuffer library is not properly loaded\n"
     ]
    }
   ],
   "source": [
    "SAVED_MODEL_DIR = \"saved_model\"\n",
    "m = Model()\n",
    "tf.saved_model.save(\n",
    "    m,\n",
    "    SAVED_MODEL_DIR,\n",
    "    signatures={\n",
    "        'train':\n",
    "            m.train.get_concrete_function(),\n",
    "        'infer':\n",
    "            m.infer.get_concrete_function(),\n",
    "        'save':\n",
    "            m.save.get_concrete_function(),\n",
    "        'restore':\n",
    "            m.restore.get_concrete_function(),\n",
    "    })\n",
    "\n",
    "# Convert the model\n",
    "converter = tf.lite.TFLiteConverter.from_saved_model(SAVED_MODEL_DIR)\n",
    "converter.target_spec.supported_ops = [\n",
    "    tf.lite.OpsSet.TFLITE_BUILTINS,  # enable TensorFlow Lite ops.\n",
    "    tf.lite.OpsSet.SELECT_TF_OPS  # enable TensorFlow ops.\n",
    "]\n",
    "converter.experimental_enable_resource_variables = True\n",
    "tflite_model = converter.convert()"
   ]
  },
  {
   "cell_type": "markdown",
   "metadata": {
    "id": "GJSOtPISKSn2"
   },
   "source": [
    "### Setup the TensorFlow Lite signatures\n",
    "\n",
    "The TensorFlow Lite model you saved in the previous step contains several function signatures. You can access them through the `tf.lite.Interpreter` class and invoke each `restore`, `train`, `save`, and `infer` signature separately."
   ]
  },
  {
   "cell_type": "code",
   "execution_count": 9,
   "metadata": {
    "id": "qNX2vqXd2-HM"
   },
   "outputs": [],
   "source": [
    "interpreter = tf.lite.Interpreter(model_content=tflite_model)\n",
    "\n",
    "train = interpreter.get_signature_runner(\"train\")\n",
    "infer = interpreter.get_signature_runner(\"infer\")\n",
    "save = interpreter.get_signature_runner(\"save\")\n",
    "restore = interpreter.get_signature_runner(\"restore\")"
   ]
  },
  {
   "cell_type": "markdown",
   "metadata": {
    "id": "7a5f73c8c5d6"
   },
   "source": [
    "## Retrain the model on a device\n",
    "\n",
    "After converting your model to TensorFlow Lite and deploying it with your app, you can retrain the model on a device using new data and the `train` signature method of your model. Each training run generates a new set of weights that you can save for re-use and further improvement of the model, as shown in the next section.\n",
    "\n",
    "Note: Since training tasks are resource intensive, you should consider performing them when users are not actively interacting with the device, and as a background process. Consider using the [WorkManager](https://developer.android.com/topic/libraries/architecture/workmanager) API to schedule model retraining as an asynchronous task.\n",
    "\n",
    "On Android, you can perform on-device training with TensorFlow Lite using either Java or C++ APIs. In Java, use the `Interpreter` class to load a model and drive model training tasks. The following example shows how to run the training procedure using the `runSignature` method:\n",
    "\n",
    "```Java\n",
    "try (Interpreter interpreter = new Interpreter(modelBuffer)) {\n",
    "    int NUM_EPOCHS = 100;\n",
    "    int BATCH_SIZE = 100;\n",
    "    int IMG_HEIGHT = 28;\n",
    "    int IMG_WIDTH = 28;\n",
    "    int NUM_TRAININGS = 60000;\n",
    "    int NUM_BATCHES = NUM_TRAININGS / BATCH_SIZE;\n",
    "\n",
    "    List<FloatBuffer> trainImageBatches = new ArrayList<>(NUM_BATCHES);\n",
    "    List<FloatBuffer> trainLabelBatches = new ArrayList<>(NUM_BATCHES);\n",
    "\n",
    "    // Prepare training batches.\n",
    "    for (int i = 0; i < NUM_BATCHES; ++i) {\n",
    "        FloatBuffer trainImages = FloatBuffer.allocateDirect(BATCH_SIZE * IMG_HEIGHT * IMG_WIDTH).order(ByteOrder.nativeOrder());\n",
    "        FloatBuffer trainLabels = FloatBuffer.allocateDirect(BATCH_SIZE * 10).order(ByteOrder.nativeOrder());\n",
    "\n",
    "        // Fill the data values...\n",
    "        trainImageBatches.add(trainImages.rewind());\n",
    "        trainImageLabels.add(trainLabels.rewind());\n",
    "    }\n",
    "\n",
    "    // Run training for a few steps.\n",
    "    float[] losses = new float[NUM_EPOCHS];\n",
    "    for (int epoch = 0; epoch < NUM_EPOCHS; ++epoch) {\n",
    "        for (int batchIdx = 0; batchIdx < NUM_BATCHES; ++batchIdx) {\n",
    "            Map<String, Object> inputs = new HashMap<>();\n",
    "            inputs.put(\"x\", trainImageBatches.get(batchIdx));\n",
    "            inputs.put(\"y\", trainLabelBatches.get(batchIdx));\n",
    "\n",
    "            Map<String, Object> outputs = new HashMap<>();\n",
    "            FloatBuffer loss = FloatBuffer.allocate(1);\n",
    "            outputs.put(\"loss\", loss);\n",
    "\n",
    "            interpreter.runSignature(inputs, outputs, \"train\");\n",
    "\n",
    "            // Record the last loss.\n",
    "            if (batchIdx == NUM_BATCHES - 1) losses[epoch] = loss.get(0);\n",
    "        }\n",
    "\n",
    "        // Print the loss output for every 10 epochs.\n",
    "        if ((epoch + 1) % 10 == 0) {\n",
    "            System.out.println(\n",
    "              \"Finished \" + (epoch + 1) + \" epochs, current loss: \" + loss.get(0));\n",
    "        }\n",
    "    }\n",
    "\n",
    "    // ...\n",
    "}\n",
    "```\n",
    "\n",
    "You can see a complete code example of model retraining inside an Android app in the [model personalization demo app](https://github.com/tensorflow/examples/blob/master/lite/examples/model_personalization/android/transfer_api/src/main/java/org/tensorflow/lite/examples/transfer/api/LiteMultipleSignatureModel.java)."
   ]
  },
  {
   "cell_type": "markdown",
   "metadata": {
    "id": "nG6tKCGZFVdi"
   },
   "source": [
    "To continue training in TensorFlow Lite, let's first load back the checkpoint produced in the previous training step:"
   ]
  },
  {
   "cell_type": "code",
   "execution_count": 10,
   "metadata": {
    "colab": {
     "base_uri": "https://localhost:8080/"
    },
    "id": "gjCwJNqFFg0p",
    "outputId": "613184a2-85a7-4181-c80c-eaeb540de0ec"
   },
   "outputs": [
    {
     "data": {
      "text/plain": [
       "{'dense_1/bias:0': array([ 1.40245527e-01, -5.25680417e-03,  3.56407046e-01, -9.95929986e-02,\n",
       "         5.92543073e-02,  3.06570530e-01, -2.40301359e-02,  9.29922387e-02,\n",
       "        -1.14679873e-01, -2.02070246e-03,  1.04017414e-01,  3.02831352e-01,\n",
       "         2.14080080e-01, -2.01163903e-01, -4.86883000e-02,  9.85773876e-02,\n",
       "         2.56550908e-01,  1.70090690e-01, -1.48789629e-01, -4.26278748e-02,\n",
       "        -1.21181548e-01, -2.04404250e-01, -2.04836242e-02, -1.24953352e-01,\n",
       "        -2.52723582e-02, -1.87508762e-02, -3.77364248e-01, -4.11073379e-02,\n",
       "         2.75090456e-01,  1.50621593e-01, -9.96642374e-03, -1.90828308e-01,\n",
       "         2.52130162e-02,  6.02328889e-02,  3.99154991e-01,  1.54844314e-01,\n",
       "        -9.93376300e-02, -7.91967474e-03, -8.89718682e-02,  3.11533064e-02,\n",
       "        -1.25385113e-02, -2.64976323e-01, -4.19556163e-02,  1.80988714e-01,\n",
       "         3.36701065e-01,  1.34397805e-01,  1.15819275e-02, -3.23593915e-02,\n",
       "        -6.47515953e-02,  3.51631463e-01,  4.43239473e-02,  9.64317396e-02,\n",
       "         3.71331245e-01,  1.69660002e-01, -2.10860386e-01,  4.47155654e-01,\n",
       "         1.30353961e-02,  2.68812962e-02, -1.59977265e-02, -3.04435492e-01,\n",
       "         6.44247755e-02,  1.04954779e-01,  4.21291560e-01,  1.82037964e-01,\n",
       "         5.53196408e-02, -4.49663162e-01,  4.91579156e-03, -4.36322428e-02,\n",
       "         1.09124757e-01,  9.03834775e-02,  1.13816351e-01, -9.87250265e-03,\n",
       "         1.53848842e-01,  2.09279567e-01,  2.39602149e-01, -2.07854003e-01,\n",
       "         7.18376413e-02, -5.52436374e-02,  2.30383262e-01,  1.28673136e-01,\n",
       "        -2.67398030e-01, -2.53238767e-01,  6.94432948e-03,  1.56953946e-01,\n",
       "        -1.19656436e-01,  5.11908606e-02, -1.78160816e-02,  4.18930113e-01,\n",
       "        -6.40464276e-02,  4.87487733e-01, -1.96583003e-01, -1.70055941e-01,\n",
       "         1.05726235e-01, -1.06946034e-02,  1.65396601e-01, -2.44234189e-01,\n",
       "        -6.44952655e-02, -1.80458240e-02,  2.54133135e-01, -1.32460192e-01,\n",
       "         4.03536677e-01, -5.66059127e-02,  3.67781937e-01, -1.64426371e-01,\n",
       "        -6.50579408e-02,  4.80865277e-02,  9.46728438e-02, -6.32338272e-03,\n",
       "         5.43438829e-02, -7.44518489e-02, -1.54695928e-01, -3.56497228e-01,\n",
       "         2.89116916e-03, -6.02419898e-02, -1.67128861e-01,  1.88867271e-01,\n",
       "        -2.69176420e-02, -2.89200172e-02, -2.16238797e-02, -9.61783007e-02,\n",
       "        -1.40736438e-02, -1.39554232e-01, -1.41341656e-01, -3.21682048e-04,\n",
       "         4.88374718e-02,  5.47817014e-02, -2.56008208e-01, -5.32442331e-02],\n",
       "       dtype=float32),\n",
       " 'dense_1/kernel:0': array([[ 0.08071218, -0.03375531,  0.06372319, ..., -0.05302616,\n",
       "          0.02131365,  0.0555731 ],\n",
       "        [ 0.00851196,  0.08094273, -0.07184112, ..., -0.0730563 ,\n",
       "          0.02094461,  0.00961951],\n",
       "        [-0.05100957,  0.06411558,  0.03955222, ..., -0.0090418 ,\n",
       "         -0.07116516, -0.01247133],\n",
       "        ...,\n",
       "        [-0.08161806, -0.01113893,  0.02889667, ..., -0.00626037,\n",
       "          0.05144461, -0.05159712],\n",
       "        [-0.06956515,  0.06134188, -0.05390814, ..., -0.01215309,\n",
       "          0.00187015, -0.0462869 ],\n",
       "        [-0.00725183,  0.03642608,  0.03595148, ...,  0.02277635,\n",
       "          0.06279973, -0.06395643]], dtype=float32),\n",
       " 'dense_2/bias:0': array([ 0.15064897, -0.4145658 ,  0.02063155,  0.1956056 , -0.07771438,\n",
       "         0.6097856 , -0.06731126,  0.2328012 , -0.06610335, -0.58374035],\n",
       "       dtype=float32),\n",
       " 'dense_2/kernel:0': array([[ 0.0539064 ,  0.16362062,  0.700794  , ...,  0.00664464,\n",
       "          0.09477582, -0.8195746 ],\n",
       "        [-0.04062932, -0.05824443,  0.09498876, ...,  0.21541671,\n",
       "          0.12202197,  0.04308491],\n",
       "        [ 0.00347459, -0.60595083, -0.01601733, ...,  0.25142747,\n",
       "          0.17545097, -0.62011606],\n",
       "        ...,\n",
       "        [-0.03376557, -0.02700606,  0.13742645, ..., -0.28208712,\n",
       "          0.11987619,  0.11345042],\n",
       "        [-0.8231869 , -0.16889912, -0.16266598, ..., -0.54404706,\n",
       "         -0.10405453,  0.9692268 ],\n",
       "        [-0.914023  , -0.09791032,  0.65698445, ..., -0.6186479 ,\n",
       "          0.06798456, -0.13528542]], dtype=float32)}"
      ]
     },
     "execution_count": 10,
     "metadata": {},
     "output_type": "execute_result"
    }
   ],
   "source": [
    "restore(checkpoint_path=np.array(\"/tmp/model.ckpt\", dtype=np.string_))"
   ]
  },
  {
   "cell_type": "markdown",
   "metadata": {
    "id": "HuBlL9z5GASQ"
   },
   "source": [
    "Run training for a few epochs to improve or personalize the model. In practice, you would run this additional training using data collected on the device. For simplicity, this example uses the same training data as the previous training step."
   ]
  },
  {
   "cell_type": "code",
   "execution_count": 11,
   "metadata": {
    "colab": {
     "base_uri": "https://localhost:8080/",
     "height": 428
    },
    "id": "pjQ5xrhyGcIQ",
    "outputId": "017d48b9-6bac-4106-f949-aed35a7a9341"
   },
   "outputs": [
    {
     "name": "stdout",
     "output_type": "stream",
     "text": [
      "Finished 1 epochs, current loss: 5.118467330932617\n",
      "Finished 2 epochs, current loss: 5.110923767089844\n",
      "Finished 3 epochs, current loss: 5.10174036026001\n",
      "Finished 4 epochs, current loss: 5.09260892868042\n",
      "Finished 5 epochs, current loss: 5.08232307434082\n",
      "Finished 6 epochs, current loss: 5.078256607055664\n",
      "Finished 7 epochs, current loss: 5.071692943572998\n",
      "Finished 8 epochs, current loss: 5.0689377784729\n",
      "Finished 9 epochs, current loss: 5.0658369064331055\n",
      "Finished 10 epochs, current loss: 5.063310146331787\n"
     ]
    },
    {
     "data": {
      "image/png": "[encoded data removed]",
      "text/plain": [
       "<Figure size 432x288 with 1 Axes>"
      ]
     },
     "metadata": {
      "needs_background": "light"
     },
     "output_type": "display_data"
    }
   ],
   "source": [
    "NUM_EPOCHS = 10\n",
    "BATCH_SIZE = 100\n",
    "epochs = np.arange(1, NUM_EPOCHS + 1, 1)\n",
    "losses = np.zeros([NUM_EPOCHS])\n",
    "m = Model()\n",
    "\n",
    "for i in range(NUM_EPOCHS):\n",
    "  for batch_idx in range(len(train_images) // BATCH_SIZE):\n",
    "    batched_images = train_images[BATCH_SIZE*(batch_idx) : BATCH_SIZE * (batch_idx + 1)]\n",
    "    batched_labels = train_labels[BATCH_SIZE*(batch_idx) : BATCH_SIZE * (batch_idx + 1)]\n",
    "    result = train(\n",
    "        x=tf.constant(batched_images, shape=(BATCH_SIZE, IMG_SIZE, IMG_SIZE),\n",
    "                      dtype=tf.float32),\n",
    "        y=tf.constant(batched_labels, shape=(BATCH_SIZE, 10), dtype=tf.float32))\n",
    "  losses[i] = result['loss']\n",
    "  print('Finished {0} epochs, current loss: {1}'.format(i + 1, losses[i]))\n",
    "\n",
    "plt.plot(epochs, losses)\n",
    "plt.show()"
   ]
  },
  {
   "cell_type": "markdown",
   "metadata": {
    "id": "UDIi0_RlPb2n"
   },
   "source": [
    "## Save the trained weights\n",
    "\n",
    "When you complete a training run on a device, the model updates the set of weights it is using in memory. Using the `save` signature method you created in your TensorFlow Lite model, you can save these weights to a checkpoint file for later reuse and improve your model."
   ]
  },
  {
   "cell_type": "code",
   "execution_count": 12,
   "metadata": {
    "colab": {
     "base_uri": "https://localhost:8080/"
    },
    "id": "7c3d3cc5f171",
    "outputId": "498d463e-02cc-4cd7-c782-c819dffd63a9"
   },
   "outputs": [
    {
     "data": {
      "text/plain": [
       "{'checkpoint_path': array(b'/tmp/model.ckpt', dtype=object)}"
      ]
     },
     "execution_count": 12,
     "metadata": {},
     "output_type": "execute_result"
    }
   ],
   "source": [
    "save(checkpoint_path=np.array(\"/tmp/model.ckpt\", dtype=np.string_))"
   ]
  },
  {
   "cell_type": "markdown",
   "metadata": {
    "id": "vvlZN-rhR_Ag"
   },
   "source": [
    "In your Android application, you can store the generated weights as a checkpoint file in the internal storage space allocated for your app.\n",
    "\n",
    "```Java\n",
    "try (Interpreter interpreter = new Interpreter(modelBuffer)) {\n",
    "    // Conduct the training jobs.\n",
    "\n",
    "    // Export the trained weights as a checkpoint file.\n",
    "    File outputFile = new File(getFilesDir(), \"checkpoint.ckpt\");\n",
    "    Map<String, Object> inputs = new HashMap<>();\n",
    "    inputs.put(\"checkpoint_path\", outputFile.getAbsolutePath());\n",
    "    Map<String, Object> outputs = new HashMap<>();\n",
    "    interpreter.runSignature(inputs, outputs, \"save\");\n",
    "}\n",
    "```"
   ]
  },
  {
   "cell_type": "markdown",
   "metadata": {
    "id": "SSDydMyOQfL5"
   },
   "source": [
    "## Restore the trained weights\n",
    "\n",
    "After you save a checkpoint file, you can restore it using the `restore` signature method. Loading this additional weighting data into your model allows you to potentially improve performance for individual users or create personalized models based on individual usage."
   ]
  },
  {
   "cell_type": "code",
   "execution_count": 13,
   "metadata": {
    "colab": {
     "base_uri": "https://localhost:8080/"
    },
    "id": "5yIZoLveRZgp",
    "outputId": "4c367f91-cc07-4f37-d297-82d9c19c0c23"
   },
   "outputs": [
    {
     "data": {
      "text/plain": [
       "{'dense_1/bias:0': array([ 1.43902764e-01, -5.00327488e-03,  3.64652395e-01, -1.00424208e-01,\n",
       "         6.15359768e-02,  3.13106209e-01, -2.47892924e-02,  1.03976414e-01,\n",
       "        -1.17131062e-01, -2.02224310e-03,  1.10414036e-01,  2.90764213e-01,\n",
       "         2.14718774e-01, -2.02795446e-01, -4.70578074e-02,  1.05445147e-01,\n",
       "         2.59642631e-01,  1.72264636e-01, -1.46229982e-01, -4.05752920e-02,\n",
       "        -1.23354420e-01, -2.18140215e-01, -2.05556639e-02, -1.24862157e-01,\n",
       "        -2.23875754e-02, -1.87664423e-02, -3.87259334e-01, -4.77399938e-02,\n",
       "         2.83528328e-01,  1.50499627e-01, -9.83900577e-03, -1.96900368e-01,\n",
       "         2.36564968e-02,  6.59097284e-02,  4.01726991e-01,  1.55638590e-01,\n",
       "        -8.88344571e-02, -1.63249187e-02, -9.02330577e-02,  2.90870126e-02,\n",
       "        -1.07634943e-02, -2.67981082e-01, -3.00127976e-02,  1.81895837e-01,\n",
       "         3.41284484e-01,  1.41630694e-01,  1.01127289e-02, -3.78195792e-02,\n",
       "        -6.17929362e-02,  3.58992189e-01,  3.79509032e-02,  9.97084901e-02,\n",
       "         3.77990693e-01,  1.71187893e-01, -2.09233835e-01,  4.51382637e-01,\n",
       "         2.92893988e-03,  2.56197359e-02, -1.53540857e-02, -3.10553551e-01,\n",
       "         5.86023666e-02,  1.04344025e-01,  4.43204939e-01,  1.84891820e-01,\n",
       "         6.39045313e-02, -4.51733947e-01,  4.30766819e-03, -4.37873639e-02,\n",
       "         1.11788884e-01,  9.30484310e-02,  1.16492257e-01, -9.36250202e-03,\n",
       "         1.52048007e-01,  2.25722715e-01,  2.49426439e-01, -2.09734723e-01,\n",
       "         6.73886985e-02, -5.88684976e-02,  2.35643670e-01,  1.28483623e-01,\n",
       "        -2.67254174e-01, -2.58270830e-01,  1.13860387e-02,  1.52324259e-01,\n",
       "        -1.24373183e-01,  5.06434664e-02, -1.74842812e-02,  4.29682314e-01,\n",
       "        -6.97307885e-02,  4.99518752e-01, -2.00490549e-01, -1.67510822e-01,\n",
       "         1.01526789e-01, -1.03466688e-02,  1.72223091e-01, -2.47787565e-01,\n",
       "        -6.34541065e-02, -1.79214906e-02,  2.58653551e-01, -1.34324685e-01,\n",
       "         4.06665832e-01, -7.43450150e-02,  3.73961806e-01, -1.64870158e-01,\n",
       "        -7.20905736e-02,  4.98207174e-02,  9.20244828e-02, -6.66194689e-03,\n",
       "         4.31790240e-02, -6.59429207e-02, -1.67836919e-01, -3.63924354e-01,\n",
       "        -4.06193518e-04, -6.60098568e-02, -1.80255070e-01,  1.91285893e-01,\n",
       "        -2.69960538e-02, -4.42517549e-02, -2.33194754e-02, -9.98072177e-02,\n",
       "        -1.37701500e-02, -1.48409262e-01, -1.45093307e-01, -2.23442470e-03,\n",
       "         5.20394035e-02,  5.83601035e-02, -2.48269081e-01, -7.42498264e-02],\n",
       "       dtype=float32),\n",
       " 'dense_1/kernel:0': array([[ 0.08071211, -0.03375531,  0.06372327, ..., -0.05302616,\n",
       "          0.0213137 ,  0.05557313],\n",
       "        [ 0.0085101 ,  0.08094273, -0.07184568, ..., -0.0730563 ,\n",
       "          0.02095106,  0.00963143],\n",
       "        [-0.05097779,  0.06411558,  0.03949108, ..., -0.00904212,\n",
       "         -0.07115042, -0.0125651 ],\n",
       "        ...,\n",
       "        [-0.07983158, -0.0111434 ,  0.02858706, ..., -0.0058496 ,\n",
       "          0.05017925, -0.05216638],\n",
       "        [-0.06970124,  0.06133797, -0.05451498, ..., -0.01262104,\n",
       "          0.00265052, -0.04643831],\n",
       "        [-0.00721742,  0.03642484,  0.03582422, ...,  0.02270149,\n",
       "          0.0629578 , -0.06394504]], dtype=float32),\n",
       " 'dense_2/bias:0': array([ 0.15348466, -0.4189089 ,  0.02169424,  0.19471554, -0.07780378,\n",
       "         0.6062662 , -0.06748729,  0.24154814, -0.06619103, -0.587271  ],\n",
       "       dtype=float32),\n",
       " 'dense_2/kernel:0': array([[ 0.060619  ,  0.16551211,  0.7099194 , ...,  0.02364742,\n",
       "          0.09474189, -0.85156876],\n",
       "        [-0.04057762, -0.05826433,  0.09479914, ...,  0.21661153,\n",
       "          0.12202276,  0.04303839],\n",
       "        [ 0.01161427, -0.6155693 , -0.01919792, ...,  0.26015884,\n",
       "          0.17541699, -0.6349777 ],\n",
       "        ...,\n",
       "        [-0.04658556, -0.02933944,  0.13653184, ..., -0.29815328,\n",
       "          0.11985819,  0.1135461 ],\n",
       "        [-0.85483706, -0.1706303 , -0.16577432, ..., -0.55247813,\n",
       "         -0.10407775,  0.9873806 ],\n",
       "        [-0.9495528 , -0.1095066 ,  0.6722971 , ..., -0.63677794,\n",
       "          0.06800387, -0.12980956]], dtype=float32)}"
      ]
     },
     "execution_count": 13,
     "metadata": {},
     "output_type": "execute_result"
    }
   ],
   "source": [
    "another_interpreter = tf.lite.Interpreter(model_content=tflite_model)\n",
    "\n",
    "train = another_interpreter.get_signature_runner(\"train\")\n",
    "infer = another_interpreter.get_signature_runner(\"infer\")\n",
    "save = another_interpreter.get_signature_runner(\"save\")\n",
    "restore = another_interpreter.get_signature_runner(\"restore\")\n",
    "\n",
    "# Restore the trained weights from /tmp/model.ckpt\n",
    "restore(checkpoint_path=np.array(\"/tmp/model.ckpt\", dtype=np.string_))"
   ]
  },
  {
   "cell_type": "markdown",
   "metadata": {
    "id": "cAo-3Eg7oGH7"
   },
   "source": [
    "Note: Loading the saved weights from the checkpoint can take time, based on the number of variables in the model and the size of the checkpoint file.\n"
   ]
  },
  {
   "cell_type": "markdown",
   "metadata": {
    "id": "v9I_-gjdSnGn"
   },
   "source": [
    "In your Android app, you can restore the serialized, trained weights from the checkpoint file you stored earlier.\n",
    "\n",
    "```Java\n",
    "try (Interpreter anotherInterpreter = new Interpreter(modelBuffer)) {\n",
    "    // Load the trained weights from the checkpoint file.\n",
    "    File outputFile = new File(getFilesDir(), \"checkpoint.ckpt\");\n",
    "    Map<String, Object> inputs = new HashMap<>();\n",
    "    inputs.put(\"checkpoint_path\", outputFile.getAbsolutePath());\n",
    "    Map<String, Object> outputs = new HashMap<>();\n",
    "    anotherInterpreter.runSignature(inputs, outputs, \"restore\");\n",
    "}\n",
    "```\n",
    "\n",
    "Note: When your application restarts, you should reload your trained weights prior to running new inferences."
   ]
  },
  {
   "cell_type": "markdown",
   "metadata": {
    "id": "zjcrv57DSkz2"
   },
   "source": [
    "## Run Inference using trained weights\n",
    "\n",
    "Once you have loaded previously saved weights from a checkpoint file, running the `infer` method uses those weights with your original model to improve predictions. After loading the saved weights, you can use the `infer` signature method as shown below.\n",
    "\n",
    "Note: Loading the saved weights is not required to run an inference, but running in that configuration produces predictions using the originally trained model, without improvements."
   ]
  },
  {
   "cell_type": "code",
   "execution_count": 14,
   "metadata": {
    "id": "_ROmlpHWS0nX"
   },
   "outputs": [],
   "source": [
    "infer = interpreter.get_signature_runner(\"infer\")\n",
    "result = infer(\n",
    "    x=tf.constant(test_images, shape=(len(test_images), IMG_SIZE, IMG_SIZE), dtype=tf.float32))\n",
    "result_labels = np.argmax(result[\"output\"], axis=1)"
   ]
  },
  {
   "cell_type": "markdown",
   "metadata": {
    "id": "fGPtqeVULZui"
   },
   "source": [
    "Plot the predicted labels."
   ]
  },
  {
   "cell_type": "code",
   "execution_count": 15,
   "metadata": {
    "colab": {
     "base_uri": "https://localhost:8080/",
     "height": 589
    },
    "id": "GHbRasdfasd4",
    "outputId": "aa5eed21-fc7f-40bf-f462-b671075cba71"
   },
   "outputs": [
    {
     "data": {
      "image/png": "[encoded data removed]",
      "text/plain": [
       "<Figure size 720x720 with 25 Axes>"
      ]
     },
     "metadata": {},
     "output_type": "display_data"
    }
   ],
   "source": [
    "class_names = ['T-shirt/top', 'Trouser', 'Pullover', 'Dress', 'Coat',\n",
    "               'Sandal', 'Shirt', 'Sneaker', 'Bag', 'Ankle boot']\n",
    "\n",
    "def plot(images, labels):\n",
    "  plt.figure(figsize=(10,10))\n",
    "  for i in range(25):\n",
    "      plt.subplot(5,5,i+1)\n",
    "      plt.xticks([])\n",
    "      plt.yticks([])\n",
    "      plt.grid(False)\n",
    "      plt.imshow(images[i], cmap=plt.cm.binary)\n",
    "      plt.xlabel(class_names[labels[i]])\n",
    "  plt.show()\n",
    "\n",
    "plot(test_images, result_labels)"
   ]
  },
  {
   "cell_type": "markdown",
   "metadata": {
    "id": "cznoIDphGPEg"
   },
   "source": [
    "Congratulations! You now have built a TensorFlow Lite model that supports on-device training. \n"
   ]
  }
 ],
 "metadata": {
  "colab": {
   "collapsed_sections": [],
   "name": "overview.ipynb",
   "provenance": []
  },
  "kernelspec": {
   "display_name": "Python 3 (ipykernel)",
   "language": "python",
   "name": "python3"
  },
  "language_info": {
   "codemirror_mode": {
    "name": "ipython",
    "version": 3
   },
   "file_extension": ".py",
   "mimetype": "text/x-python",
   "name": "python",
   "nbconvert_exporter": "python",
   "pygments_lexer": "ipython3",
   "version": "3.7.11"
  }
 },
 "nbformat": 4,
 "nbformat_minor": 1
}
